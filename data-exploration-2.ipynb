{
 "cells": [
  {
   "cell_type": "markdown",
   "metadata": {},
   "source": [
    "### Description\n",
    "\n",
    "In data-exploration-1, we did some initial data exploration to find out what kind of data we had, and to see if we needed to \"clean\" the data to deal with missing or null values. Now that we have a better handle on the content of the data, we can merge the data from the various files into a dataframe so that we can fully compare the two restaurant reservation systems.\n"
   ]
  },
  {
   "cell_type": "code",
   "execution_count": null,
   "metadata": {},
   "outputs": [],
   "source": [
    "#setup\n",
    "import pandas as pd\n",
    "import numpy as np\n",
    "import seaborn as sn\n",
    "import matplotlib.pyplot as plt\n",
    "%matplotlib inline\n",
    "\n",
    "#for visualization of missing data\n",
    "import missingno\n",
    "\n",
    "aReserveDF = pd.read_csv('air_reserve.csv') \n",
    "aVisitDF = pd.read_csv('air_visit_data.csv') \n",
    "aStoreDF = pd.read_csv('air_store_info.csv')\n",
    "\n",
    "hReserveDF = pd.read_csv('hpg_reserve.csv') \n",
    "hStoreDF = pd.read_csv('hpg_store_info.csv') \n",
    "\n",
    "dateInfoDF = pd.read_csv('date_info.csv')\n",
    "sampleSubmissionDF = pd.read_csv('sample_submission.csv') \n",
    "storeIdRelationDF = pd.read_csv('store_id_relation.csv') "
   ]
  }
 ],
 "metadata": {
  "kernelspec": {
   "display_name": "Python 3",
   "language": "python",
   "name": "python3"
  },
  "language_info": {
   "codemirror_mode": {
    "name": "ipython",
    "version": 3
   },
   "file_extension": ".py",
   "mimetype": "text/x-python",
   "name": "python",
   "nbconvert_exporter": "python",
   "pygments_lexer": "ipython3",
   "version": "3.5.2"
  }
 },
 "nbformat": 4,
 "nbformat_minor": 2
}
