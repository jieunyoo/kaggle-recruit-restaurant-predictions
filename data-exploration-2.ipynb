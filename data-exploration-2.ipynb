{
 "cells": [
  {
   "cell_type": "markdown",
   "metadata": {},
   "source": [
    "### Description\n",
    "\n",
    "In data-exploration-1, we did some initial data exploration to find out what kind of data we had, and to see if we needed to \"clean\" the data to deal with missing or null values. Now that we have a better handle on the content of the data, we can merge the data from the various files into a dataframe so that we can fully compare the two restaurant reservation systems.\n"
   ]
  },
  {
   "cell_type": "code",
   "execution_count": 1,
   "metadata": {},
   "outputs": [],
   "source": [
    "#setup\n",
    "import pandas as pd\n",
    "import numpy as np\n",
    "import seaborn as sn\n",
    "import matplotlib.pyplot as plt\n",
    "%matplotlib inline\n",
    "\n",
    "#for visualization of missing data\n",
    "import missingno\n",
    "\n",
    "aReserveDF = pd.read_csv('air_reserve.csv', parse_dates = ['visit_datetime', 'reserve_datetime']) \n",
    "aVisitDF = pd.read_csv('air_visit_data.csv', parse_dates = ['visit_date']) \n",
    "aStoreDF = pd.read_csv('air_store_info.csv')\n",
    "\n",
    "hReserveDF = pd.read_csv('hpg_reserve.csv', parse_dates = ['visit_datetime', 'reserve_datetime']) \n",
    "hStoreDF = pd.read_csv('hpg_store_info.csv') \n",
    "\n",
    "dateInfoDF = pd.read_csv('date_info.csv', parse_dates = ['calendar_date'])\n",
    "sampleSubmissionDF = pd.read_csv('sample_submission.csv') \n",
    "storeIdRelationDF = pd.read_csv('store_id_relation.csv') "
   ]
  },
  {
   "cell_type": "markdown",
   "metadata": {},
   "source": [
    "### Merging DataFrames"
   ]
  },
  {
   "cell_type": "markdown",
   "metadata": {},
   "source": [
    "Next, we'll merge data from the air Reservation System with data from the HPG Reservation System.\n",
    "We'll borrow the code for merging from http://www.kaggle.com/oxanozaep/eda-and-regression-analysis"
   ]
  },
  {
   "cell_type": "code",
   "execution_count": 2,
   "metadata": {},
   "outputs": [
    {
     "data": {
      "text/plain": [
       "(118910, 8)"
      ]
     },
     "execution_count": 2,
     "metadata": {},
     "output_type": "execute_result"
    }
   ],
   "source": [
    "#parse the visit_datetime and reserve_datetime into separate years, months, days\n",
    "#then, drop the now unnecessary visit_datetime and reserve_datetime categories\n",
    "hReserveDF['visit_year'] = hReserveDF['visit_datetime'].dt.year\n",
    "hReserveDF['visit_month'] = hReserveDF['visit_datetime'].dt.month\n",
    "hReserveDF['visit_day'] = hReserveDF['visit_datetime'].dt.day\n",
    "hReserveDF['reserve_year'] = hReserveDF['reserve_datetime'].dt.year#\n",
    "hReserveDF['reserve_month'] = hReserveDF['reserve_datetime'].dt.month\n",
    "hReserveDF['reserve_day'] = hReserveDF['reserve_datetime'].dt.day\n",
    "hReserveDF.drop(['visit_datetime','reserve_datetime'], axis=1, inplace=True)\n",
    "\n",
    "hReserveDF = hReserveDF.groupby(['hpg_store_id', 'visit_year', 'visit_month',\\\n",
    "                                   'visit_day','reserve_year','reserve_month','reserve_day'], as_index=False).sum()\n",
    "\n",
    "aReserveDF['visit_year'] = aReserveDF['visit_datetime'].dt.year\n",
    "aReserveDF['visit_month'] = aReserveDF['visit_datetime'].dt.month\n",
    "aReserveDF['visit_day'] = aReserveDF['visit_datetime'].dt.day\n",
    "aReserveDF['reserve_year'] = aReserveDF['reserve_datetime'].dt.year\n",
    "aReserveDF['reserve_month'] = aReserveDF['reserve_datetime'].dt.month\n",
    "aReserveDF['reserve_day'] = aReserveDF['reserve_datetime'].dt.day\n",
    "aReserveDF.drop(['visit_datetime','reserve_datetime'], axis=1, inplace=True)\n",
    "\n",
    "dateInfoDF['calendar_year'] = dateInfoDF['calendar_date'].dt.year\n",
    "dateInfoDF['calendar_month'] = dateInfoDF['calendar_date'].dt.month\n",
    "dateInfoDF['calendar_day'] = dateInfoDF['calendar_date'].dt.day\n",
    "dateInfoDF.drop(['calendar_date'], axis=1, inplace=True)\n",
    "\n",
    "aVisitDF['visit_year'] = aVisitDF['visit_date'].dt.year\n",
    "aVisitDF['visit_month'] = aVisitDF['visit_date'].dt.month\n",
    "aVisitDF['visit_day'] = aVisitDF['visit_date'].dt.day\n",
    "aVisitDF.drop(['visit_date'], axis=1, inplace=True)\n",
    "\n",
    "hReserveDF = pd.merge(hReserveDF, storeIdRelationDF, on='hpg_store_id', how='inner')\n",
    "hReserveDF.drop(['hpg_store_id'], axis=1, inplace=True)\n",
    "\n",
    "aReserveDF = pd.concat([aReserveDF, hReserveDF])\n",
    "\n",
    "aReserveDF.shape"
   ]
  },
  {
   "cell_type": "markdown",
   "metadata": {},
   "source": [
    "### Merger Steps\n",
    "\n",
    "Note that the reserve_datetime refers to the time that a potential customer visited the website and made a reservation, and NOT the actual day the customer visited a potential restaurant. Also, reserve_visitors shows the number of visitors that the reservation was made from.\n",
    "\n",
    "visit_datetime is the actual day that the reservation is being made for.\n",
    "\n",
    "We originally had 92,378 reservations made through the Air Reservation Sytem, and 2,000,320 reservations made through the HPG Reservation System.\n",
    "\n",
    "There were only 150 correlations between Air Reservation Sytem IDs and HPG Reservation System IDs.\n",
    "We only have real visitor data for restaurants that have an Air Reservation System ID.\n",
    "So, after correlations, we only have 26,532 reservations made through the HPG Reservation System that have a correlated Air Reservation System ID.\n",
    "\n",
    "So, we have 2,000,320 - 92,378  = 118,910 reservations total\n"
   ]
  },
  {
   "cell_type": "markdown",
   "metadata": {},
   "source": [
    "### Summing the number of reservations for a particular store on a particular day\n",
    "\n",
    "The line of code that follows sums the number of reservations for a particular air_store_id for a particular ID. This creates a dataframe where we will be able to compare daily reservation numbers for a restaurant with actual visitors for a restaurant.\n",
    "\n",
    "The one problem with this approach is that if only some people make multiple reservations at once for a restaurant (e.g., they decide to book a 5 PM reservation for 10 guests and then another 6 PM reservation for the same 10 guests), then the number of reservations is overestimated compared to the actual demand. \n",
    "\n"
   ]
  },
  {
   "cell_type": "code",
   "execution_count": 3,
   "metadata": {},
   "outputs": [
    {
     "data": {
      "text/plain": [
       "(42193, 5)"
      ]
     },
     "execution_count": 3,
     "metadata": {},
     "output_type": "execute_result"
    }
   ],
   "source": [
    "aReserveDF = aReserveDF.groupby(['air_store_id', 'visit_year', 'visit_month','visit_day'],\\\n",
    "                         as_index=False).sum().drop(['reserve_day','reserve_month','reserve_year'], axis=1)\n",
    "\n",
    "aReserveDF.shape"
   ]
  },
  {
   "cell_type": "markdown",
   "metadata": {},
   "source": [
    "After performing the above sum, we find that we now have 42,193 rows of data - for each of the IDs, we have data on how many visitors are expected on which day.\n",
    "\n",
    "The next steps adds to the aReserveDF the general store information (store description).\n",
    "\n",
    "Also, another DF called trainDF is created, which includes as a column \"visitors,\" which tells the actual number of visits to a restaurant. "
   ]
  },
  {
   "cell_type": "code",
   "execution_count": 4,
   "metadata": {},
   "outputs": [],
   "source": [
    "aReserveDF = pd.merge(aReserveDF, dateInfoDF, left_on=['visit_year','visit_month','visit_day'], right_on=['calendar_year','calendar_month','calendar_day'], how='left')\n",
    "aReserveDF.drop(['calendar_year','calendar_month','calendar_day'], axis=1, inplace=True)\n",
    "\n",
    "aReserveDF = pd.merge(aReserveDF, aStoreDF, on='air_store_id', how='left')\n",
    "\n",
    "trainDF = pd.merge(aReserveDF, aVisitDF, on=['air_store_id','visit_year','visit_month','visit_day'], how='left')"
   ]
  },
  {
   "cell_type": "code",
   "execution_count": 5,
   "metadata": {},
   "outputs": [
    {
     "data": {
      "text/html": [
       "<div>\n",
       "<style scoped>\n",
       "    .dataframe tbody tr th:only-of-type {\n",
       "        vertical-align: middle;\n",
       "    }\n",
       "\n",
       "    .dataframe tbody tr th {\n",
       "        vertical-align: top;\n",
       "    }\n",
       "\n",
       "    .dataframe thead th {\n",
       "        text-align: right;\n",
       "    }\n",
       "</style>\n",
       "<table border=\"1\" class=\"dataframe\">\n",
       "  <thead>\n",
       "    <tr style=\"text-align: right;\">\n",
       "      <th></th>\n",
       "      <th>air_store_id</th>\n",
       "      <th>visit_year</th>\n",
       "      <th>visit_month</th>\n",
       "      <th>visit_day</th>\n",
       "      <th>reserve_visitors</th>\n",
       "      <th>day_of_week</th>\n",
       "      <th>holiday_flg</th>\n",
       "      <th>air_genre_name</th>\n",
       "      <th>air_area_name</th>\n",
       "      <th>latitude</th>\n",
       "      <th>longitude</th>\n",
       "    </tr>\n",
       "  </thead>\n",
       "  <tbody>\n",
       "    <tr>\n",
       "      <th>0</th>\n",
       "      <td>air_00a91d42b08b08d9</td>\n",
       "      <td>2016</td>\n",
       "      <td>1</td>\n",
       "      <td>14</td>\n",
       "      <td>2</td>\n",
       "      <td>Thursday</td>\n",
       "      <td>0</td>\n",
       "      <td>Italian/French</td>\n",
       "      <td>Tōkyō-to Chiyoda-ku Kudanminami</td>\n",
       "      <td>35.694003</td>\n",
       "      <td>139.753595</td>\n",
       "    </tr>\n",
       "    <tr>\n",
       "      <th>1</th>\n",
       "      <td>air_00a91d42b08b08d9</td>\n",
       "      <td>2016</td>\n",
       "      <td>1</td>\n",
       "      <td>15</td>\n",
       "      <td>4</td>\n",
       "      <td>Friday</td>\n",
       "      <td>0</td>\n",
       "      <td>Italian/French</td>\n",
       "      <td>Tōkyō-to Chiyoda-ku Kudanminami</td>\n",
       "      <td>35.694003</td>\n",
       "      <td>139.753595</td>\n",
       "    </tr>\n",
       "    <tr>\n",
       "      <th>2</th>\n",
       "      <td>air_00a91d42b08b08d9</td>\n",
       "      <td>2016</td>\n",
       "      <td>1</td>\n",
       "      <td>16</td>\n",
       "      <td>2</td>\n",
       "      <td>Saturday</td>\n",
       "      <td>0</td>\n",
       "      <td>Italian/French</td>\n",
       "      <td>Tōkyō-to Chiyoda-ku Kudanminami</td>\n",
       "      <td>35.694003</td>\n",
       "      <td>139.753595</td>\n",
       "    </tr>\n",
       "    <tr>\n",
       "      <th>3</th>\n",
       "      <td>air_00a91d42b08b08d9</td>\n",
       "      <td>2016</td>\n",
       "      <td>1</td>\n",
       "      <td>22</td>\n",
       "      <td>2</td>\n",
       "      <td>Friday</td>\n",
       "      <td>0</td>\n",
       "      <td>Italian/French</td>\n",
       "      <td>Tōkyō-to Chiyoda-ku Kudanminami</td>\n",
       "      <td>35.694003</td>\n",
       "      <td>139.753595</td>\n",
       "    </tr>\n",
       "    <tr>\n",
       "      <th>4</th>\n",
       "      <td>air_00a91d42b08b08d9</td>\n",
       "      <td>2016</td>\n",
       "      <td>1</td>\n",
       "      <td>29</td>\n",
       "      <td>5</td>\n",
       "      <td>Friday</td>\n",
       "      <td>0</td>\n",
       "      <td>Italian/French</td>\n",
       "      <td>Tōkyō-to Chiyoda-ku Kudanminami</td>\n",
       "      <td>35.694003</td>\n",
       "      <td>139.753595</td>\n",
       "    </tr>\n",
       "  </tbody>\n",
       "</table>\n",
       "</div>"
      ],
      "text/plain": [
       "           air_store_id  visit_year  visit_month  visit_day  reserve_visitors  \\\n",
       "0  air_00a91d42b08b08d9        2016            1         14                 2   \n",
       "1  air_00a91d42b08b08d9        2016            1         15                 4   \n",
       "2  air_00a91d42b08b08d9        2016            1         16                 2   \n",
       "3  air_00a91d42b08b08d9        2016            1         22                 2   \n",
       "4  air_00a91d42b08b08d9        2016            1         29                 5   \n",
       "\n",
       "  day_of_week  holiday_flg  air_genre_name                    air_area_name  \\\n",
       "0    Thursday            0  Italian/French  Tōkyō-to Chiyoda-ku Kudanminami   \n",
       "1      Friday            0  Italian/French  Tōkyō-to Chiyoda-ku Kudanminami   \n",
       "2    Saturday            0  Italian/French  Tōkyō-to Chiyoda-ku Kudanminami   \n",
       "3      Friday            0  Italian/French  Tōkyō-to Chiyoda-ku Kudanminami   \n",
       "4      Friday            0  Italian/French  Tōkyō-to Chiyoda-ku Kudanminami   \n",
       "\n",
       "    latitude   longitude  \n",
       "0  35.694003  139.753595  \n",
       "1  35.694003  139.753595  \n",
       "2  35.694003  139.753595  \n",
       "3  35.694003  139.753595  \n",
       "4  35.694003  139.753595  "
      ]
     },
     "execution_count": 5,
     "metadata": {},
     "output_type": "execute_result"
    }
   ],
   "source": [
    "aReserveDF.head()"
   ]
  },
  {
   "cell_type": "code",
   "execution_count": 6,
   "metadata": {},
   "outputs": [
    {
     "data": {
      "text/html": [
       "<div>\n",
       "<style scoped>\n",
       "    .dataframe tbody tr th:only-of-type {\n",
       "        vertical-align: middle;\n",
       "    }\n",
       "\n",
       "    .dataframe tbody tr th {\n",
       "        vertical-align: top;\n",
       "    }\n",
       "\n",
       "    .dataframe thead th {\n",
       "        text-align: right;\n",
       "    }\n",
       "</style>\n",
       "<table border=\"1\" class=\"dataframe\">\n",
       "  <thead>\n",
       "    <tr style=\"text-align: right;\">\n",
       "      <th></th>\n",
       "      <th>air_store_id</th>\n",
       "      <th>visit_year</th>\n",
       "      <th>visit_month</th>\n",
       "      <th>visit_day</th>\n",
       "      <th>reserve_visitors</th>\n",
       "      <th>day_of_week</th>\n",
       "      <th>holiday_flg</th>\n",
       "      <th>air_genre_name</th>\n",
       "      <th>air_area_name</th>\n",
       "      <th>latitude</th>\n",
       "      <th>longitude</th>\n",
       "      <th>visitors</th>\n",
       "    </tr>\n",
       "  </thead>\n",
       "  <tbody>\n",
       "    <tr>\n",
       "      <th>0</th>\n",
       "      <td>air_00a91d42b08b08d9</td>\n",
       "      <td>2016</td>\n",
       "      <td>1</td>\n",
       "      <td>14</td>\n",
       "      <td>2</td>\n",
       "      <td>Thursday</td>\n",
       "      <td>0</td>\n",
       "      <td>Italian/French</td>\n",
       "      <td>Tōkyō-to Chiyoda-ku Kudanminami</td>\n",
       "      <td>35.694003</td>\n",
       "      <td>139.753595</td>\n",
       "      <td>NaN</td>\n",
       "    </tr>\n",
       "    <tr>\n",
       "      <th>1</th>\n",
       "      <td>air_00a91d42b08b08d9</td>\n",
       "      <td>2016</td>\n",
       "      <td>1</td>\n",
       "      <td>15</td>\n",
       "      <td>4</td>\n",
       "      <td>Friday</td>\n",
       "      <td>0</td>\n",
       "      <td>Italian/French</td>\n",
       "      <td>Tōkyō-to Chiyoda-ku Kudanminami</td>\n",
       "      <td>35.694003</td>\n",
       "      <td>139.753595</td>\n",
       "      <td>NaN</td>\n",
       "    </tr>\n",
       "    <tr>\n",
       "      <th>2</th>\n",
       "      <td>air_00a91d42b08b08d9</td>\n",
       "      <td>2016</td>\n",
       "      <td>1</td>\n",
       "      <td>16</td>\n",
       "      <td>2</td>\n",
       "      <td>Saturday</td>\n",
       "      <td>0</td>\n",
       "      <td>Italian/French</td>\n",
       "      <td>Tōkyō-to Chiyoda-ku Kudanminami</td>\n",
       "      <td>35.694003</td>\n",
       "      <td>139.753595</td>\n",
       "      <td>NaN</td>\n",
       "    </tr>\n",
       "    <tr>\n",
       "      <th>3</th>\n",
       "      <td>air_00a91d42b08b08d9</td>\n",
       "      <td>2016</td>\n",
       "      <td>1</td>\n",
       "      <td>22</td>\n",
       "      <td>2</td>\n",
       "      <td>Friday</td>\n",
       "      <td>0</td>\n",
       "      <td>Italian/French</td>\n",
       "      <td>Tōkyō-to Chiyoda-ku Kudanminami</td>\n",
       "      <td>35.694003</td>\n",
       "      <td>139.753595</td>\n",
       "      <td>NaN</td>\n",
       "    </tr>\n",
       "    <tr>\n",
       "      <th>4</th>\n",
       "      <td>air_00a91d42b08b08d9</td>\n",
       "      <td>2016</td>\n",
       "      <td>1</td>\n",
       "      <td>29</td>\n",
       "      <td>5</td>\n",
       "      <td>Friday</td>\n",
       "      <td>0</td>\n",
       "      <td>Italian/French</td>\n",
       "      <td>Tōkyō-to Chiyoda-ku Kudanminami</td>\n",
       "      <td>35.694003</td>\n",
       "      <td>139.753595</td>\n",
       "      <td>NaN</td>\n",
       "    </tr>\n",
       "  </tbody>\n",
       "</table>\n",
       "</div>"
      ],
      "text/plain": [
       "           air_store_id  visit_year  visit_month  visit_day  reserve_visitors  \\\n",
       "0  air_00a91d42b08b08d9        2016            1         14                 2   \n",
       "1  air_00a91d42b08b08d9        2016            1         15                 4   \n",
       "2  air_00a91d42b08b08d9        2016            1         16                 2   \n",
       "3  air_00a91d42b08b08d9        2016            1         22                 2   \n",
       "4  air_00a91d42b08b08d9        2016            1         29                 5   \n",
       "\n",
       "  day_of_week  holiday_flg  air_genre_name                    air_area_name  \\\n",
       "0    Thursday            0  Italian/French  Tōkyō-to Chiyoda-ku Kudanminami   \n",
       "1      Friday            0  Italian/French  Tōkyō-to Chiyoda-ku Kudanminami   \n",
       "2    Saturday            0  Italian/French  Tōkyō-to Chiyoda-ku Kudanminami   \n",
       "3      Friday            0  Italian/French  Tōkyō-to Chiyoda-ku Kudanminami   \n",
       "4      Friday            0  Italian/French  Tōkyō-to Chiyoda-ku Kudanminami   \n",
       "\n",
       "    latitude   longitude  visitors  \n",
       "0  35.694003  139.753595       NaN  \n",
       "1  35.694003  139.753595       NaN  \n",
       "2  35.694003  139.753595       NaN  \n",
       "3  35.694003  139.753595       NaN  \n",
       "4  35.694003  139.753595       NaN  "
      ]
     },
     "execution_count": 6,
     "metadata": {},
     "output_type": "execute_result"
    }
   ],
   "source": [
    "trainDF.head()"
   ]
  },
  {
   "cell_type": "markdown",
   "metadata": {},
   "source": [
    "From the above, we see that there are some NaN values in the trainDF dataframe. Let's check how many."
   ]
  },
  {
   "cell_type": "code",
   "execution_count": 7,
   "metadata": {},
   "outputs": [
    {
     "data": {
      "text/plain": [
       "air_store_id           0\n",
       "visit_year             0\n",
       "visit_month            0\n",
       "visit_day              0\n",
       "reserve_visitors       0\n",
       "day_of_week            0\n",
       "holiday_flg            0\n",
       "air_genre_name         0\n",
       "air_area_name          0\n",
       "latitude               0\n",
       "longitude              0\n",
       "visitors            6495\n",
       "dtype: int64"
      ]
     },
     "execution_count": 7,
     "metadata": {},
     "output_type": "execute_result"
    }
   ],
   "source": [
    "trainDF.isnull().sum()"
   ]
  },
  {
   "cell_type": "markdown",
   "metadata": {},
   "source": [
    "### Unfulfilled reservations\n",
    "\n",
    "It seems that the 6,495 NaN values in the visitor column show cases where a reservation was made for a specific restaurant on a specific date, but that there were no actual visitors.\n",
    "\n",
    "Let's also look at a few statistics for the trainDF."
   ]
  },
  {
   "cell_type": "code",
   "execution_count": 8,
   "metadata": {},
   "outputs": [
    {
     "data": {
      "text/html": [
       "<div>\n",
       "<style scoped>\n",
       "    .dataframe tbody tr th:only-of-type {\n",
       "        vertical-align: middle;\n",
       "    }\n",
       "\n",
       "    .dataframe tbody tr th {\n",
       "        vertical-align: top;\n",
       "    }\n",
       "\n",
       "    .dataframe thead th {\n",
       "        text-align: right;\n",
       "    }\n",
       "</style>\n",
       "<table border=\"1\" class=\"dataframe\">\n",
       "  <thead>\n",
       "    <tr style=\"text-align: right;\">\n",
       "      <th></th>\n",
       "      <th>air_store_id</th>\n",
       "      <th>day_of_week</th>\n",
       "      <th>air_genre_name</th>\n",
       "      <th>air_area_name</th>\n",
       "    </tr>\n",
       "  </thead>\n",
       "  <tbody>\n",
       "    <tr>\n",
       "      <th>count</th>\n",
       "      <td>42193</td>\n",
       "      <td>42193</td>\n",
       "      <td>42193</td>\n",
       "      <td>42193</td>\n",
       "    </tr>\n",
       "    <tr>\n",
       "      <th>unique</th>\n",
       "      <td>333</td>\n",
       "      <td>7</td>\n",
       "      <td>14</td>\n",
       "      <td>72</td>\n",
       "    </tr>\n",
       "    <tr>\n",
       "      <th>top</th>\n",
       "      <td>air_6b15edd1b4fbb96a</td>\n",
       "      <td>Friday</td>\n",
       "      <td>Izakaya</td>\n",
       "      <td>Fukuoka-ken Fukuoka-shi Daimyō</td>\n",
       "    </tr>\n",
       "    <tr>\n",
       "      <th>freq</th>\n",
       "      <td>384</td>\n",
       "      <td>8302</td>\n",
       "      <td>15717</td>\n",
       "      <td>3302</td>\n",
       "    </tr>\n",
       "  </tbody>\n",
       "</table>\n",
       "</div>"
      ],
      "text/plain": [
       "                air_store_id day_of_week air_genre_name  \\\n",
       "count                  42193       42193          42193   \n",
       "unique                   333           7             14   \n",
       "top     air_6b15edd1b4fbb96a      Friday        Izakaya   \n",
       "freq                     384        8302          15717   \n",
       "\n",
       "                         air_area_name  \n",
       "count                            42193  \n",
       "unique                              72  \n",
       "top     Fukuoka-ken Fukuoka-shi Daimyō  \n",
       "freq                              3302  "
      ]
     },
     "execution_count": 8,
     "metadata": {},
     "output_type": "execute_result"
    }
   ],
   "source": [
    "trainDF.describe(include = ['O'])"
   ]
  },
  {
   "cell_type": "markdown",
   "metadata": {},
   "source": [
    "Our trainDF dataframe shows that the 42,193 reservations were made at 333 unique restaurants. \n",
    "\n",
    "The most popular restaurant received 384 reservations.\n",
    "\n",
    "Also, the most popular day for a reservation was Friday."
   ]
  },
  {
   "cell_type": "code",
   "execution_count": null,
   "metadata": {},
   "outputs": [],
   "source": []
  }
 ],
 "metadata": {
  "kernelspec": {
   "display_name": "Python 3",
   "language": "python",
   "name": "python3"
  },
  "language_info": {
   "codemirror_mode": {
    "name": "ipython",
    "version": 3
   },
   "file_extension": ".py",
   "mimetype": "text/x-python",
   "name": "python",
   "nbconvert_exporter": "python",
   "pygments_lexer": "ipython3",
   "version": "3.5.2"
  }
 },
 "nbformat": 4,
 "nbformat_minor": 2
}
