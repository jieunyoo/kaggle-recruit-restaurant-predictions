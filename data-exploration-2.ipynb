{
 "cells": [
  {
   "cell_type": "markdown",
   "metadata": {},
   "source": [
    "### Description\n",
    "\n",
    "In data-exploration-1, we did some initial data exploration to find out what kind of data we had, and to see if we needed to \"clean\" the data to deal with missing or null values. Now that we have a better handle on the content of the data, we can merge the data from the various files into a dataframe so that we can fully compare the two restaurant reservation systems.\n"
   ]
  },
  {
   "cell_type": "code",
   "execution_count": 7,
   "metadata": {},
   "outputs": [],
   "source": [
    "#setup\n",
    "import pandas as pd\n",
    "import numpy as np\n",
    "import seaborn as sn\n",
    "import matplotlib.pyplot as plt\n",
    "%matplotlib inline\n",
    "\n",
    "#for visualization of missing data\n",
    "import missingno\n",
    "\n",
    "aReserveDF = pd.read_csv('air_reserve.csv', parse_dates = ['visit_datetime', 'reserve_datetime']) \n",
    "aVisitDF = pd.read_csv('air_visit_data.csv', parse_dates = ['visit_date']) \n",
    "aStoreDF = pd.read_csv('air_store_info.csv')\n",
    "\n",
    "hReserveDF = pd.read_csv('hpg_reserve.csv', parse_dates = ['visit_datetime', 'reserve_datetime']) \n",
    "hStoreDF = pd.read_csv('hpg_store_info.csv') \n",
    "\n",
    "dateInfoDF = pd.read_csv('date_info.csv', parse_dates = ['calendar_date'])\n",
    "sampleSubmissionDF = pd.read_csv('sample_submission.csv') \n",
    "storeIdRelationDF = pd.read_csv('store_id_relation.csv') "
   ]
  },
  {
   "cell_type": "markdown",
   "metadata": {},
   "source": [
    "### Merging DataFrames"
   ]
  },
  {
   "cell_type": "code",
   "execution_count": 8,
   "metadata": {},
   "outputs": [],
   "source": [
    "#airSystemCombinedDF = pd.merge(aReserveDF, aStoreDF, on='air_store_id', how = 'outer')#"
   ]
  },
  {
   "cell_type": "markdown",
   "metadata": {},
   "source": [
    "Next, we'll merge data from the air Reservation System with data from the HPG Reservation System.\n",
    "We'll borrow the code for merging from http://www.kaggle.com/oxanozaep/eda-and-regression-analysis"
   ]
  },
  {
   "cell_type": "code",
   "execution_count": 9,
   "metadata": {},
   "outputs": [],
   "source": [
    "hReserveDF['visit_year'] = hReserveDF['visit_datetime'].dt.year\n",
    "hReserveDF['visit_month'] = hReserveDF['visit_datetime'].dt.month\n",
    "hReserveDF['visit_day'] = hReserveDF['visit_datetime'].dt.day\n",
    "hReserveDF['reserve_year'] = hReserveDF['reserve_datetime'].dt.year#\n",
    "hReserveDF['reserve_month'] = hReserveDF['reserve_datetime'].dt.month\n",
    "hReserveDF['reserve_day'] = hReserveDF['reserve_datetime'].dt.day\n",
    "\n",
    "hReserveDF.drop(['visit_datetime','reserve_datetime'], axis=1, inplace=True)\n",
    "\n",
    "hReserveDF = hReserveDF.groupby(['hpg_store_id', 'visit_year', 'visit_month',\\\n",
    "                                   'visit_day','reserve_year','reserve_month','reserve_day'], as_index=False).sum()\n",
    "\n",
    "aReserveDF['visit_year'] = aReserveDF['visit_datetime'].dt.year\n",
    "aReserveDF['visit_month'] = aReserveDF['visit_datetime'].dt.month\n",
    "aReserveDF['visit_day'] = aReserveDF['visit_datetime'].dt.day\n",
    "aReserveDF['reserve_year'] = aReserveDF['reserve_datetime'].dt.year\n",
    "aReserveDF['reserve_month'] = aReserveDF['reserve_datetime'].dt.month\n",
    "aReserveDF['reserve_day'] = aReserveDF['reserve_datetime'].dt.day\n",
    "\n",
    "aReserveDF.drop(['visit_datetime','reserve_datetime'], axis=1, inplace=True)\n",
    "\n",
    "dateInfoDF['calendar_year'] = dateInfoDF['calendar_date'].dt.year\n",
    "dateInfoDF['calendar_month'] = dateInfoDF['calendar_date'].dt.month\n",
    "dateInfoDF['calendar_day'] = dateInfoDF['calendar_date'].dt.day\n",
    "\n",
    "dateInfoDF.drop(['calendar_date'], axis=1, inplace=True)\n",
    "\n",
    "aVisitDF['visit_year'] = aVisitDF['visit_date'].dt.year\n",
    "aVisitDF['visit_month'] = aVisitDF['visit_date'].dt.month\n",
    "aVisitDF['visit_day'] = aVisitDF['visit_date'].dt.day\n",
    "\n",
    "aVisitDF.drop(['visit_date'], axis=1, inplace=True)\n",
    "\n",
    "hReserveDF = pd.merge(hReserveDF, storeIdRelationDF, on='hpg_store_id', how='inner')\n",
    "hReserveDF.drop(['hpg_store_id'], axis=1, inplace=True)\n",
    "\n",
    "aReserveDF = pd.concat([aReserveDF, hReserveDF])\n",
    "\n",
    "aReserveDF = aReserveDF.groupby(['air_store_id', 'visit_year', 'visit_month','visit_day'],\\\n",
    "                as_index=False).sum().drop(['reserve_day','reserve_month','reserve_year'], axis=1)\n",
    "\n",
    "aReserveDF = pd.merge(aReserveDF, dateInfoDF, left_on=['visit_year','visit_month','visit_day'], right_on=['calendar_year','calendar_month','calendar_day'], how='left')\n",
    "aReserveDF.drop(['calendar_year','calendar_month','calendar_day'], axis=1, inplace=True)\n",
    "\n",
    "\n",
    "aReserveDF = pd.merge(aReserveDF, aStoreDF, on='air_store_id', how='left')\n",
    "\n",
    "#finalDF = pd.merge(aReserveDF, aVisitDF, on=['air_store_id','visit_year','visit_month','visit_day'], how='left')\n",
    "\n",
    "\n"
   ]
  },
  {
   "cell_type": "markdown",
   "metadata": {},
   "source": [
    "### Merger Steps\n",
    "\n",
    "HReserveDF is transformed into a dataframe that separates the visited datetime into the visited year, month, and day.\n",
    "Note that the visited datetime refers to the time that a potential customer visited the website and made a reservation, and NOT actual day the customer visited a potential restaurant.\n",
    "\n",
    "Also, the reserved datetime is separated into the reserved year, month, and day.\n",
    "Also, reserve_visitors shows the number of visitors that the reservation was made from.\n",
    "\n",
    "Reservations using the HPG system used an HPG store ID. HReserveDF converts the HPG store IDs into air Reservation Store IDs.\n"
   ]
  },
  {
   "cell_type": "code",
   "execution_count": 10,
   "metadata": {},
   "outputs": [
    {
     "data": {
      "text/plain": [
       "(26532, 8)"
      ]
     },
     "execution_count": 10,
     "metadata": {},
     "output_type": "execute_result"
    }
   ],
   "source": [
    "hReserveDF.shape"
   ]
  },
  {
   "cell_type": "code",
   "execution_count": 11,
   "metadata": {},
   "outputs": [
    {
     "data": {
      "text/html": [
       "<div>\n",
       "<style scoped>\n",
       "    .dataframe tbody tr th:only-of-type {\n",
       "        vertical-align: middle;\n",
       "    }\n",
       "\n",
       "    .dataframe tbody tr th {\n",
       "        vertical-align: top;\n",
       "    }\n",
       "\n",
       "    .dataframe thead th {\n",
       "        text-align: right;\n",
       "    }\n",
       "</style>\n",
       "<table border=\"1\" class=\"dataframe\">\n",
       "  <thead>\n",
       "    <tr style=\"text-align: right;\">\n",
       "      <th></th>\n",
       "      <th>air_store_id</th>\n",
       "      <th>visit_year</th>\n",
       "      <th>visit_month</th>\n",
       "      <th>visit_day</th>\n",
       "      <th>reserve_visitors</th>\n",
       "      <th>day_of_week</th>\n",
       "      <th>holiday_flg</th>\n",
       "      <th>air_genre_name</th>\n",
       "      <th>air_area_name</th>\n",
       "      <th>latitude</th>\n",
       "      <th>longitude</th>\n",
       "    </tr>\n",
       "  </thead>\n",
       "  <tbody>\n",
       "    <tr>\n",
       "      <th>0</th>\n",
       "      <td>air_00a91d42b08b08d9</td>\n",
       "      <td>2016</td>\n",
       "      <td>1</td>\n",
       "      <td>14</td>\n",
       "      <td>2</td>\n",
       "      <td>Thursday</td>\n",
       "      <td>0</td>\n",
       "      <td>Italian/French</td>\n",
       "      <td>Tōkyō-to Chiyoda-ku Kudanminami</td>\n",
       "      <td>35.694003</td>\n",
       "      <td>139.753595</td>\n",
       "    </tr>\n",
       "    <tr>\n",
       "      <th>1</th>\n",
       "      <td>air_00a91d42b08b08d9</td>\n",
       "      <td>2016</td>\n",
       "      <td>1</td>\n",
       "      <td>15</td>\n",
       "      <td>4</td>\n",
       "      <td>Friday</td>\n",
       "      <td>0</td>\n",
       "      <td>Italian/French</td>\n",
       "      <td>Tōkyō-to Chiyoda-ku Kudanminami</td>\n",
       "      <td>35.694003</td>\n",
       "      <td>139.753595</td>\n",
       "    </tr>\n",
       "    <tr>\n",
       "      <th>2</th>\n",
       "      <td>air_00a91d42b08b08d9</td>\n",
       "      <td>2016</td>\n",
       "      <td>1</td>\n",
       "      <td>16</td>\n",
       "      <td>2</td>\n",
       "      <td>Saturday</td>\n",
       "      <td>0</td>\n",
       "      <td>Italian/French</td>\n",
       "      <td>Tōkyō-to Chiyoda-ku Kudanminami</td>\n",
       "      <td>35.694003</td>\n",
       "      <td>139.753595</td>\n",
       "    </tr>\n",
       "    <tr>\n",
       "      <th>3</th>\n",
       "      <td>air_00a91d42b08b08d9</td>\n",
       "      <td>2016</td>\n",
       "      <td>1</td>\n",
       "      <td>22</td>\n",
       "      <td>2</td>\n",
       "      <td>Friday</td>\n",
       "      <td>0</td>\n",
       "      <td>Italian/French</td>\n",
       "      <td>Tōkyō-to Chiyoda-ku Kudanminami</td>\n",
       "      <td>35.694003</td>\n",
       "      <td>139.753595</td>\n",
       "    </tr>\n",
       "    <tr>\n",
       "      <th>4</th>\n",
       "      <td>air_00a91d42b08b08d9</td>\n",
       "      <td>2016</td>\n",
       "      <td>1</td>\n",
       "      <td>29</td>\n",
       "      <td>5</td>\n",
       "      <td>Friday</td>\n",
       "      <td>0</td>\n",
       "      <td>Italian/French</td>\n",
       "      <td>Tōkyō-to Chiyoda-ku Kudanminami</td>\n",
       "      <td>35.694003</td>\n",
       "      <td>139.753595</td>\n",
       "    </tr>\n",
       "  </tbody>\n",
       "</table>\n",
       "</div>"
      ],
      "text/plain": [
       "           air_store_id  visit_year  visit_month  visit_day  reserve_visitors  \\\n",
       "0  air_00a91d42b08b08d9        2016            1         14                 2   \n",
       "1  air_00a91d42b08b08d9        2016            1         15                 4   \n",
       "2  air_00a91d42b08b08d9        2016            1         16                 2   \n",
       "3  air_00a91d42b08b08d9        2016            1         22                 2   \n",
       "4  air_00a91d42b08b08d9        2016            1         29                 5   \n",
       "\n",
       "  day_of_week  holiday_flg  air_genre_name                    air_area_name  \\\n",
       "0    Thursday            0  Italian/French  Tōkyō-to Chiyoda-ku Kudanminami   \n",
       "1      Friday            0  Italian/French  Tōkyō-to Chiyoda-ku Kudanminami   \n",
       "2    Saturday            0  Italian/French  Tōkyō-to Chiyoda-ku Kudanminami   \n",
       "3      Friday            0  Italian/French  Tōkyō-to Chiyoda-ku Kudanminami   \n",
       "4      Friday            0  Italian/French  Tōkyō-to Chiyoda-ku Kudanminami   \n",
       "\n",
       "    latitude   longitude  \n",
       "0  35.694003  139.753595  \n",
       "1  35.694003  139.753595  \n",
       "2  35.694003  139.753595  \n",
       "3  35.694003  139.753595  \n",
       "4  35.694003  139.753595  "
      ]
     },
     "execution_count": 11,
     "metadata": {},
     "output_type": "execute_result"
    }
   ],
   "source": [
    "aReserveDF.head()"
   ]
  }
 ],
 "metadata": {
  "kernelspec": {
   "display_name": "Python 3",
   "language": "python",
   "name": "python3"
  },
  "language_info": {
   "codemirror_mode": {
    "name": "ipython",
    "version": 3
   },
   "file_extension": ".py",
   "mimetype": "text/x-python",
   "name": "python",
   "nbconvert_exporter": "python",
   "pygments_lexer": "ipython3",
   "version": "3.5.2"
  }
 },
 "nbformat": 4,
 "nbformat_minor": 2
}
